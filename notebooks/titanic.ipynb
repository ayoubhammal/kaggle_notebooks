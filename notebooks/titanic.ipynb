{
 "cells": [
  {
   "cell_type": "markdown",
   "id": "57572a08",
   "metadata": {},
   "source": [
    "Notebook score is 0.77751"
   ]
  },
  {
   "cell_type": "code",
   "execution_count": 1,
   "id": "ee26d076",
   "metadata": {},
   "outputs": [],
   "source": [
    "%matplotlib inline\n",
    "\n",
    "import os, re\n",
    "\n",
    "import numpy             as np\n",
    "import pandas            as pd\n",
    "import matplotlib.pyplot as plt\n",
    "import seaborn           as sns\n",
    "\n",
    "from sklearn.preprocessing   import OneHotEncoder\n",
    "from sklearn.preprocessing   import StandardScaler\n",
    "\n",
    "from sklearn.linear_model    import LogisticRegression\n",
    "from sklearn.svm             import SVC\n",
    "from sklearn.tree            import DecisionTreeClassifier\n",
    "from sklearn.ensemble        import RandomForestClassifier\n",
    "from sklearn.ensemble        import ExtraTreesClassifier\n",
    "from sklearn.neighbors       import KNeighborsClassifier\n",
    "\n",
    "from sklearn.model_selection import cross_val_score\n",
    "\n",
    "from sklearn.model_selection import GridSearchCV\n",
    "\n",
    "from sklearn.ensemble        import VotingClassifier"
   ]
  },
  {
   "cell_type": "code",
   "execution_count": 2,
   "id": "9789cbcc",
   "metadata": {},
   "outputs": [],
   "source": [
    "titanic_df_train = pd.read_csv(os.path.abspath('../datasets/titanic/train.csv'))\n",
    "titanic_df_test = pd.read_csv(os.path.abspath('../datasets/titanic/test.csv'))\n",
    "\n",
    "train_len = len(titanic_df_train)\n",
    "test_len = len(titanic_df_test)"
   ]
  },
  {
   "cell_type": "code",
   "execution_count": 3,
   "id": "ea91bdd7",
   "metadata": {
    "scrolled": false
   },
   "outputs": [],
   "source": [
    "titanic = titanic_df_train.copy().append(titanic_df_test.copy(), ignore_index = True)"
   ]
  },
  {
   "cell_type": "markdown",
   "id": "3ea3c80c",
   "metadata": {},
   "source": [
    "The problem is a classification problem, and the target feature is the survivability of a titanic passenger."
   ]
  },
  {
   "cell_type": "markdown",
   "id": "7aa777e7",
   "metadata": {},
   "source": [
    "Since there is already a test set, we will not create another validation set. Instead, we will use cross-validation for that mater."
   ]
  },
  {
   "cell_type": "markdown",
   "id": "d2949dc4",
   "metadata": {},
   "source": [
    "# Exploratory data analysis"
   ]
  },
  {
   "cell_type": "code",
   "execution_count": 4,
   "id": "56620f6a",
   "metadata": {
    "scrolled": false
   },
   "outputs": [
    {
     "data": {
      "text/html": [
       "<div>\n",
       "<style scoped>\n",
       "    .dataframe tbody tr th:only-of-type {\n",
       "        vertical-align: middle;\n",
       "    }\n",
       "\n",
       "    .dataframe tbody tr th {\n",
       "        vertical-align: top;\n",
       "    }\n",
       "\n",
       "    .dataframe thead th {\n",
       "        text-align: right;\n",
       "    }\n",
       "</style>\n",
       "<table border=\"1\" class=\"dataframe\">\n",
       "  <thead>\n",
       "    <tr style=\"text-align: right;\">\n",
       "      <th></th>\n",
       "      <th>PassengerId</th>\n",
       "      <th>Survived</th>\n",
       "      <th>Pclass</th>\n",
       "      <th>Age</th>\n",
       "      <th>SibSp</th>\n",
       "      <th>Parch</th>\n",
       "      <th>Fare</th>\n",
       "    </tr>\n",
       "  </thead>\n",
       "  <tbody>\n",
       "    <tr>\n",
       "      <th>count</th>\n",
       "      <td>1309.000000</td>\n",
       "      <td>891.000000</td>\n",
       "      <td>1309.000000</td>\n",
       "      <td>1046.000000</td>\n",
       "      <td>1309.000000</td>\n",
       "      <td>1309.000000</td>\n",
       "      <td>1308.000000</td>\n",
       "    </tr>\n",
       "    <tr>\n",
       "      <th>mean</th>\n",
       "      <td>655.000000</td>\n",
       "      <td>0.383838</td>\n",
       "      <td>2.294882</td>\n",
       "      <td>29.881138</td>\n",
       "      <td>0.498854</td>\n",
       "      <td>0.385027</td>\n",
       "      <td>33.295479</td>\n",
       "    </tr>\n",
       "    <tr>\n",
       "      <th>std</th>\n",
       "      <td>378.020061</td>\n",
       "      <td>0.486592</td>\n",
       "      <td>0.837836</td>\n",
       "      <td>14.413493</td>\n",
       "      <td>1.041658</td>\n",
       "      <td>0.865560</td>\n",
       "      <td>51.758668</td>\n",
       "    </tr>\n",
       "    <tr>\n",
       "      <th>min</th>\n",
       "      <td>1.000000</td>\n",
       "      <td>0.000000</td>\n",
       "      <td>1.000000</td>\n",
       "      <td>0.170000</td>\n",
       "      <td>0.000000</td>\n",
       "      <td>0.000000</td>\n",
       "      <td>0.000000</td>\n",
       "    </tr>\n",
       "    <tr>\n",
       "      <th>25%</th>\n",
       "      <td>328.000000</td>\n",
       "      <td>0.000000</td>\n",
       "      <td>2.000000</td>\n",
       "      <td>21.000000</td>\n",
       "      <td>0.000000</td>\n",
       "      <td>0.000000</td>\n",
       "      <td>7.895800</td>\n",
       "    </tr>\n",
       "    <tr>\n",
       "      <th>50%</th>\n",
       "      <td>655.000000</td>\n",
       "      <td>0.000000</td>\n",
       "      <td>3.000000</td>\n",
       "      <td>28.000000</td>\n",
       "      <td>0.000000</td>\n",
       "      <td>0.000000</td>\n",
       "      <td>14.454200</td>\n",
       "    </tr>\n",
       "    <tr>\n",
       "      <th>75%</th>\n",
       "      <td>982.000000</td>\n",
       "      <td>1.000000</td>\n",
       "      <td>3.000000</td>\n",
       "      <td>39.000000</td>\n",
       "      <td>1.000000</td>\n",
       "      <td>0.000000</td>\n",
       "      <td>31.275000</td>\n",
       "    </tr>\n",
       "    <tr>\n",
       "      <th>max</th>\n",
       "      <td>1309.000000</td>\n",
       "      <td>1.000000</td>\n",
       "      <td>3.000000</td>\n",
       "      <td>80.000000</td>\n",
       "      <td>8.000000</td>\n",
       "      <td>9.000000</td>\n",
       "      <td>512.329200</td>\n",
       "    </tr>\n",
       "  </tbody>\n",
       "</table>\n",
       "</div>"
      ],
      "text/plain": [
       "       PassengerId    Survived       Pclass          Age        SibSp  \\\n",
       "count  1309.000000  891.000000  1309.000000  1046.000000  1309.000000   \n",
       "mean    655.000000    0.383838     2.294882    29.881138     0.498854   \n",
       "std     378.020061    0.486592     0.837836    14.413493     1.041658   \n",
       "min       1.000000    0.000000     1.000000     0.170000     0.000000   \n",
       "25%     328.000000    0.000000     2.000000    21.000000     0.000000   \n",
       "50%     655.000000    0.000000     3.000000    28.000000     0.000000   \n",
       "75%     982.000000    1.000000     3.000000    39.000000     1.000000   \n",
       "max    1309.000000    1.000000     3.000000    80.000000     8.000000   \n",
       "\n",
       "             Parch         Fare  \n",
       "count  1309.000000  1308.000000  \n",
       "mean      0.385027    33.295479  \n",
       "std       0.865560    51.758668  \n",
       "min       0.000000     0.000000  \n",
       "25%       0.000000     7.895800  \n",
       "50%       0.000000    14.454200  \n",
       "75%       0.000000    31.275000  \n",
       "max       9.000000   512.329200  "
      ]
     },
     "execution_count": 4,
     "metadata": {},
     "output_type": "execute_result"
    }
   ],
   "source": [
    "titanic.describe()"
   ]
  },
  {
   "cell_type": "code",
   "execution_count": 5,
   "id": "5d8569d6",
   "metadata": {
    "scrolled": false
   },
   "outputs": [
    {
     "data": {
      "text/plain": [
       "<AxesSubplot:>"
      ]
     },
     "execution_count": 5,
     "metadata": {},
     "output_type": "execute_result"
    },
    {
     "data": {
      "image/png": "[encoded data removed]",
      "text/plain": [
       "<Figure size 432x288 with 2 Axes>"
      ]
     },
     "metadata": {
      "needs_background": "light"
     },
     "output_type": "display_data"
    }
   ],
   "source": [
    "sns.heatmap(titanic[['Age', 'SibSp', 'Parch', 'Fare', 'Survived']].corr(), annot = True, cmap = 'Blues')"
   ]
  },
  {
   "cell_type": "markdown",
   "id": "bc21ed59",
   "metadata": {},
   "source": [
    "Fare is the most correlated feature with respect to survivability.\n",
    "\n",
    "Parch and SibSp are also highly correlated."
   ]
  },
  {
   "cell_type": "markdown",
   "id": "6559810b",
   "metadata": {},
   "source": [
    "## Categorical"
   ]
  },
  {
   "cell_type": "markdown",
   "id": "7c27f15a",
   "metadata": {},
   "source": [
    "### Sex"
   ]
  },
  {
   "cell_type": "code",
   "execution_count": 6,
   "id": "e3980a87",
   "metadata": {
    "scrolled": true
   },
   "outputs": [
    {
     "data": {
      "text/plain": [
       "<seaborn.axisgrid.FacetGrid at 0x7f24a5627280>"
      ]
     },
     "execution_count": 6,
     "metadata": {},
     "output_type": "execute_result"
    },
    {
     "data": {
      "image/png": "[encoded data removed]",
      "text/plain": [
       "<Figure size 360x360 with 1 Axes>"
      ]
     },
     "metadata": {
      "needs_background": "light"
     },
     "output_type": "display_data"
    }
   ],
   "source": [
    "sns.catplot(kind = 'bar', data = titanic, x = 'Sex', y = 'Survived')"
   ]
  },
  {
   "cell_type": "markdown",
   "id": "609615b4",
   "metadata": {},
   "source": [
    "Sex is an important feature for predicting survivability it seems.\n",
    "\n",
    "Women have greater chance of survival than men."
   ]
  },
  {
   "cell_type": "markdown",
   "id": "ef162240",
   "metadata": {},
   "source": [
    "### Pclass"
   ]
  },
  {
   "cell_type": "code",
   "execution_count": 7,
   "id": "f3834580",
   "metadata": {
    "scrolled": false
   },
   "outputs": [
    {
     "data": {
      "text/plain": [
       "<seaborn.axisgrid.FacetGrid at 0x7f24a54eac70>"
      ]
     },
     "execution_count": 7,
     "metadata": {},
     "output_type": "execute_result"
    },
    {
     "data": {
      "image/png": "[encoded data removed]",
      "text/plain": [
       "<Figure size 360x360 with 1 Axes>"
      ]
     },
     "metadata": {
      "needs_background": "light"
     },
     "output_type": "display_data"
    }
   ],
   "source": [
    "sns.catplot(kind = 'bar', data = titanic, x = 'Pclass', y = 'Survived')"
   ]
  },
  {
   "cell_type": "markdown",
   "id": "009de623",
   "metadata": {},
   "source": [
    "3rd class has much lower survivability.\n",
    "\n",
    "And since the 3rd class is the majority, then those who did not survive are mainly from 3rd class."
   ]
  },
  {
   "cell_type": "code",
   "execution_count": 8,
   "id": "41c8e0a6",
   "metadata": {
    "scrolled": false
   },
   "outputs": [
    {
     "data": {
      "text/plain": [
       "<seaborn.axisgrid.FacetGrid at 0x7f24a5557ca0>"
      ]
     },
     "execution_count": 8,
     "metadata": {},
     "output_type": "execute_result"
    },
    {
     "data": {
      "image/png": "[encoded data removed]",
      "text/plain": [
       "<Figure size 430.5x360 with 1 Axes>"
      ]
     },
     "metadata": {
      "needs_background": "light"
     },
     "output_type": "display_data"
    }
   ],
   "source": [
    "sns.catplot(kind = 'bar', data = titanic, x = 'Pclass', y = 'Survived', hue = 'Sex')"
   ]
  },
  {
   "cell_type": "markdown",
   "id": "96daa956",
   "metadata": {},
   "source": [
    "Survivability rate keep the same tendency in regard to both sexes."
   ]
  },
  {
   "cell_type": "markdown",
   "id": "d52b9230",
   "metadata": {},
   "source": [
    "### Embarked"
   ]
  },
  {
   "cell_type": "code",
   "execution_count": 9,
   "id": "02195f51",
   "metadata": {
    "scrolled": false
   },
   "outputs": [
    {
     "data": {
      "text/plain": [
       "<seaborn.axisgrid.FacetGrid at 0x7f24a564e430>"
      ]
     },
     "execution_count": 9,
     "metadata": {},
     "output_type": "execute_result"
    },
    {
     "data": {
      "image/png": "[encoded data removed]",
      "text/plain": [
       "<Figure size 360x360 with 1 Axes>"
      ]
     },
     "metadata": {
      "needs_background": "light"
     },
     "output_type": "display_data"
    }
   ],
   "source": [
    "sns.catplot(kind = 'bar', data = titanic, x = 'Embarked', y = 'Survived')"
   ]
  },
  {
   "cell_type": "markdown",
   "id": "bbcc1a1c",
   "metadata": {},
   "source": [
    "Passengers embarked from port S (Southampton) have the lowest survival rate. "
   ]
  },
  {
   "cell_type": "code",
   "execution_count": 10,
   "id": "a84bc1fc",
   "metadata": {
    "scrolled": false
   },
   "outputs": [
    {
     "data": {
      "text/plain": [
       "<seaborn.axisgrid.FacetGrid at 0x7f24a775ba30>"
      ]
     },
     "execution_count": 10,
     "metadata": {},
     "output_type": "execute_result"
    },
    {
     "data": {
      "image/png": "[encoded data removed]",
      "text/plain": [
       "<Figure size 1080x360 with 3 Axes>"
      ]
     },
     "metadata": {
      "needs_background": "light"
     },
     "output_type": "display_data"
    }
   ],
   "source": [
    "sns.catplot(kind = 'count', data = titanic, x = 'Pclass', hue = 'Embarked', col = 'Embarked')"
   ]
  },
  {
   "cell_type": "markdown",
   "id": "a696bc89",
   "metadata": {},
   "source": [
    "It appears that port C (Cherbourg) has the highest survival rate because it has a relatively higher 1st class passengers ratio."
   ]
  },
  {
   "cell_type": "markdown",
   "id": "cfa78252",
   "metadata": {},
   "source": [
    "## Numerical"
   ]
  },
  {
   "cell_type": "markdown",
   "id": "0117af04",
   "metadata": {},
   "source": [
    "### SibSP"
   ]
  },
  {
   "cell_type": "code",
   "execution_count": 11,
   "id": "66758c58",
   "metadata": {
    "scrolled": false
   },
   "outputs": [
    {
     "data": {
      "text/plain": [
       "<seaborn.axisgrid.FacetGrid at 0x7f24a53d78b0>"
      ]
     },
     "execution_count": 11,
     "metadata": {},
     "output_type": "execute_result"
    },
    {
     "data": {
      "image/png": "[encoded data removed]",
      "text/plain": [
       "<Figure size 360x360 with 1 Axes>"
      ]
     },
     "metadata": {
      "needs_background": "light"
     },
     "output_type": "display_data"
    }
   ],
   "source": [
    "sns.catplot(kind = 'bar', data = titanic, x = 'SibSp', y = 'Survived')"
   ]
  },
  {
   "cell_type": "markdown",
   "id": "35cd14bd",
   "metadata": {},
   "source": [
    "### Parch"
   ]
  },
  {
   "cell_type": "code",
   "execution_count": 12,
   "id": "8585d27a",
   "metadata": {
    "scrolled": false
   },
   "outputs": [
    {
     "data": {
      "text/plain": [
       "<seaborn.axisgrid.FacetGrid at 0x7f24a52c0460>"
      ]
     },
     "execution_count": 12,
     "metadata": {},
     "output_type": "execute_result"
    },
    {
     "data": {
      "image/png": "[encoded data removed]",
      "text/plain": [
       "<Figure size 360x360 with 1 Axes>"
      ]
     },
     "metadata": {
      "needs_background": "light"
     },
     "output_type": "display_data"
    }
   ],
   "source": [
    "sns.catplot(kind = 'bar', data = titanic, x = 'Parch', y = 'Survived')"
   ]
  },
  {
   "cell_type": "markdown",
   "id": "f432fa5e",
   "metadata": {},
   "source": [
    "### Age"
   ]
  },
  {
   "cell_type": "code",
   "execution_count": 13,
   "id": "e21edeb3",
   "metadata": {
    "scrolled": true
   },
   "outputs": [
    {
     "data": {
      "text/plain": [
       "<seaborn.axisgrid.FacetGrid at 0x7f24a4e34130>"
      ]
     },
     "execution_count": 13,
     "metadata": {},
     "output_type": "execute_result"
    },
    {
     "data": {
      "image/png": "[encoded data removed]",
      "text/plain": [
       "<Figure size 360x360 with 1 Axes>"
      ]
     },
     "metadata": {
      "needs_background": "light"
     },
     "output_type": "display_data"
    }
   ],
   "source": [
    "sns.displot(kind = 'kde', data = titanic, x = 'Age')"
   ]
  },
  {
   "cell_type": "code",
   "execution_count": 14,
   "id": "190365d4",
   "metadata": {
    "scrolled": true
   },
   "outputs": [
    {
     "data": {
      "text/plain": [
       "<seaborn.axisgrid.FacetGrid at 0x7f24a4e01df0>"
      ]
     },
     "execution_count": 14,
     "metadata": {},
     "output_type": "execute_result"
    },
    {
     "data": {
      "image/png": "[encoded data removed]",
      "text/plain": [
       "<Figure size 411.875x360 with 1 Axes>"
      ]
     },
     "metadata": {
      "needs_background": "light"
     },
     "output_type": "display_data"
    }
   ],
   "source": [
    "sns.displot(kind = 'kde', data = titanic, x = 'Age', hue = 'Survived', multiple = 'stack')"
   ]
  },
  {
   "cell_type": "markdown",
   "id": "2d9372b3",
   "metadata": {},
   "source": [
    "### Fare"
   ]
  },
  {
   "cell_type": "code",
   "execution_count": 15,
   "id": "c4ba40a9",
   "metadata": {
    "scrolled": true
   },
   "outputs": [
    {
     "data": {
      "text/plain": [
       "<seaborn.axisgrid.FacetGrid at 0x7f24a4e73d90>"
      ]
     },
     "execution_count": 15,
     "metadata": {},
     "output_type": "execute_result"
    },
    {
     "data": {
      "image/png": "[encoded data removed]",
      "text/plain": [
       "<Figure size 360x360 with 1 Axes>"
      ]
     },
     "metadata": {
      "needs_background": "light"
     },
     "output_type": "display_data"
    }
   ],
   "source": [
    "sns.displot(kind = 'kde', data = titanic, x = 'Fare')"
   ]
  },
  {
   "cell_type": "code",
   "execution_count": 16,
   "id": "d5a7c0f6",
   "metadata": {},
   "outputs": [
    {
     "data": {
      "text/plain": [
       "4.367709134122922"
      ]
     },
     "execution_count": 16,
     "metadata": {},
     "output_type": "execute_result"
    }
   ],
   "source": [
    "titanic[\"Fare\"].skew()"
   ]
  },
  {
   "cell_type": "markdown",
   "id": "14f98e90",
   "metadata": {},
   "source": [
    "Fare distribution is skewed, we will use log transformation to reduce its skewness."
   ]
  },
  {
   "cell_type": "code",
   "execution_count": 17,
   "id": "63d02d66",
   "metadata": {
    "scrolled": true
   },
   "outputs": [],
   "source": [
    "titanic[\"Fare\"] = titanic[\"Fare\"].map(lambda x: np.log(x) if x > 0 else 0)"
   ]
  },
  {
   "cell_type": "code",
   "execution_count": 18,
   "id": "9c689862",
   "metadata": {
    "scrolled": false
   },
   "outputs": [
    {
     "data": {
      "text/plain": [
       "<seaborn.axisgrid.FacetGrid at 0x7f24a2c9c400>"
      ]
     },
     "execution_count": 18,
     "metadata": {},
     "output_type": "execute_result"
    },
    {
     "data": {
      "image/png": "[encoded data removed]",
      "text/plain": [
       "<Figure size 360x360 with 1 Axes>"
      ]
     },
     "metadata": {
      "needs_background": "light"
     },
     "output_type": "display_data"
    }
   ],
   "source": [
    "sns.displot(kind = 'kde', data = titanic, x = 'Fare')"
   ]
  },
  {
   "cell_type": "code",
   "execution_count": 19,
   "id": "6c2fa786",
   "metadata": {
    "scrolled": true
   },
   "outputs": [
    {
     "data": {
      "text/plain": [
       "0.5516464212491966"
      ]
     },
     "execution_count": 19,
     "metadata": {},
     "output_type": "execute_result"
    }
   ],
   "source": [
    "titanic[\"Fare\"].skew()"
   ]
  },
  {
   "cell_type": "markdown",
   "id": "6ace7988",
   "metadata": {},
   "source": [
    "## Missing values"
   ]
  },
  {
   "cell_type": "code",
   "execution_count": 20,
   "id": "9a57bfeb",
   "metadata": {},
   "outputs": [],
   "source": [
    "df_prepared = pd.DataFrame()\n",
    "cat_1hot_encoder = OneHotEncoder()\n",
    "std_scaler = StandardScaler()"
   ]
  },
  {
   "cell_type": "code",
   "execution_count": 21,
   "id": "3653e395",
   "metadata": {},
   "outputs": [],
   "source": [
    "def one_hot_encode(df, prefix):\n",
    "    cat_1hot_encoder.fit(df)\n",
    "    return [prefix + '_' + str(cat).lower() for cat in cat_1hot_encoder.categories_[0]]"
   ]
  },
  {
   "cell_type": "code",
   "execution_count": 22,
   "id": "b4b9722f",
   "metadata": {},
   "outputs": [],
   "source": [
    "df_prepared = pd.concat([df_prepared, pd.DataFrame(std_scaler.fit_transform(titanic[['Fare']]), columns = ['fare'])], axis = 1)"
   ]
  },
  {
   "cell_type": "code",
   "execution_count": 23,
   "id": "56132a6c",
   "metadata": {
    "scrolled": false
   },
   "outputs": [
    {
     "data": {
      "text/plain": [
       "PassengerId       0\n",
       "Survived        418\n",
       "Pclass            0\n",
       "Name              0\n",
       "Sex               0\n",
       "Age             263\n",
       "SibSp             0\n",
       "Parch             0\n",
       "Ticket            0\n",
       "Fare              0\n",
       "Cabin          1014\n",
       "Embarked          2\n",
       "dtype: int64"
      ]
     },
     "execution_count": 23,
     "metadata": {},
     "output_type": "execute_result"
    }
   ],
   "source": [
    "titanic.isna().sum()"
   ]
  },
  {
   "cell_type": "markdown",
   "id": "5879fb4a",
   "metadata": {},
   "source": [
    "### Age"
   ]
  },
  {
   "cell_type": "code",
   "execution_count": 24,
   "id": "816bcbc7",
   "metadata": {},
   "outputs": [
    {
     "data": {
      "text/plain": [
       "<seaborn.axisgrid.FacetGrid at 0x7f24f07a4220>"
      ]
     },
     "execution_count": 24,
     "metadata": {},
     "output_type": "execute_result"
    },
    {
     "data": {
      "image/png": "[encoded data removed]",
      "text/plain": [
       "<Figure size 360x360 with 1 Axes>"
      ]
     },
     "metadata": {
      "needs_background": "light"
     },
     "output_type": "display_data"
    },
    {
     "data": {
      "image/png": "[encoded data removed]",
      "text/plain": [
       "<Figure size 360x360 with 1 Axes>"
      ]
     },
     "metadata": {
      "needs_background": "light"
     },
     "output_type": "display_data"
    },
    {
     "data": {
      "image/png": "[encoded data removed]",
      "text/plain": [
       "<Figure size 360x360 with 1 Axes>"
      ]
     },
     "metadata": {
      "needs_background": "light"
     },
     "output_type": "display_data"
    },
    {
     "data": {
      "image/png": "[encoded data removed]",
      "text/plain": [
       "<Figure size 360x360 with 1 Axes>"
      ]
     },
     "metadata": {
      "needs_background": "light"
     },
     "output_type": "display_data"
    }
   ],
   "source": [
    "sns.catplot(kind = 'box', data = titanic, x = 'Sex', y = 'Age')\n",
    "sns.catplot(kind = 'box', data = titanic, x = 'Pclass', y = 'Age')\n",
    "sns.catplot(kind = 'box', data = titanic, x = 'SibSp', y = 'Age')\n",
    "sns.catplot(kind = 'box', data = titanic, x = 'Parch', y = 'Age')"
   ]
  },
  {
   "cell_type": "code",
   "execution_count": 25,
   "id": "d3a86571",
   "metadata": {
    "scrolled": true
   },
   "outputs": [
    {
     "data": {
      "image/png": "[encoded data removed]",
      "text/plain": [
       "<Figure size 432x288 with 2 Axes>"
      ]
     },
     "metadata": {
      "needs_background": "light"
     },
     "output_type": "display_data"
    }
   ],
   "source": [
    "titanic['Sex_cat'] = titanic['Sex'].map({'male': 1, 'female': 0})\n",
    "sns.heatmap(titanic[['Age', 'Sex_cat', 'Pclass', 'SibSp', 'Parch']].corr().abs(), annot = True, cmap = 'Blues')\n",
    "titanic.drop('Sex_cat', axis = 1, inplace = True)"
   ]
  },
  {
   "cell_type": "markdown",
   "id": "1bd44273",
   "metadata": {},
   "source": [
    "Passenger Class and SibSp are the most important features for predicting survival, so we will use them to subdivide the dataset and fill the missing age values for each category."
   ]
  },
  {
   "cell_type": "code",
   "execution_count": 26,
   "id": "23745d70",
   "metadata": {
    "scrolled": true
   },
   "outputs": [],
   "source": [
    "titanic['Age'] = titanic.groupby(['Pclass', 'SibSp'])['Age'].apply(lambda x: x.fillna(x.median()))"
   ]
  },
  {
   "cell_type": "code",
   "execution_count": 27,
   "id": "d67d2d5a",
   "metadata": {},
   "outputs": [],
   "source": [
    "df_prepared = pd.concat([df_prepared, pd.DataFrame(std_scaler.fit_transform(titanic[['Age']]), columns = ['age'])], axis = 1)"
   ]
  },
  {
   "cell_type": "markdown",
   "id": "6f4b42fb",
   "metadata": {},
   "source": [
    "### Embarked"
   ]
  },
  {
   "cell_type": "markdown",
   "id": "3ce7556b",
   "metadata": {},
   "source": [
    "Embarked feature is filled with the mode value."
   ]
  },
  {
   "cell_type": "code",
   "execution_count": 28,
   "id": "b6ab1fc1",
   "metadata": {},
   "outputs": [],
   "source": [
    "titanic['Embarked'].fillna(titanic['Embarked'].mode()[0], inplace = True)"
   ]
  },
  {
   "cell_type": "code",
   "execution_count": 29,
   "id": "e6ac30b0",
   "metadata": {},
   "outputs": [],
   "source": [
    "columns = one_hot_encode(titanic[['Embarked']], 'embarked')\n",
    "df_prepared = pd.concat([df_prepared, pd.DataFrame(cat_1hot_encoder.transform(titanic[['Embarked']]).toarray(), columns = columns)], axis = 1)"
   ]
  },
  {
   "cell_type": "markdown",
   "id": "12cbb3fc",
   "metadata": {},
   "source": [
    "### Cabin"
   ]
  },
  {
   "cell_type": "markdown",
   "id": "27402a2a",
   "metadata": {},
   "source": [
    "Cabin first letter indicate the cabin location on the ship, and thus is important for deducing survival rate. "
   ]
  },
  {
   "cell_type": "code",
   "execution_count": 30,
   "id": "2cfb6f2f",
   "metadata": {},
   "outputs": [],
   "source": [
    "titanic['Cabin'] = titanic['Cabin'].apply(lambda x: x[0].upper() if not pd.isna(x) else 'X')"
   ]
  },
  {
   "cell_type": "code",
   "execution_count": 31,
   "id": "5834d10b",
   "metadata": {
    "scrolled": false
   },
   "outputs": [
    {
     "data": {
      "text/plain": [
       "<seaborn.axisgrid.FacetGrid at 0x7f24a294b6a0>"
      ]
     },
     "execution_count": 31,
     "metadata": {},
     "output_type": "execute_result"
    },
    {
     "data": {
      "image/png": "[encoded data removed]",
      "text/plain": [
       "<Figure size 360x360 with 1 Axes>"
      ]
     },
     "metadata": {
      "needs_background": "light"
     },
     "output_type": "display_data"
    }
   ],
   "source": [
    "sns.catplot(kind = 'bar', data = titanic, x = 'Cabin', y = 'Survived')"
   ]
  },
  {
   "cell_type": "code",
   "execution_count": 32,
   "id": "9b41345e",
   "metadata": {},
   "outputs": [],
   "source": [
    "columns = one_hot_encode(titanic[['Cabin']], 'cabin')\n",
    "df_prepared = pd.concat([df_prepared, pd.DataFrame(cat_1hot_encoder.transform(titanic[['Cabin']]).toarray(), columns = columns)], axis = 1)"
   ]
  },
  {
   "cell_type": "markdown",
   "id": "81ba271c",
   "metadata": {},
   "source": [
    "## Features Engineering"
   ]
  },
  {
   "cell_type": "markdown",
   "id": "9f73152d",
   "metadata": {},
   "source": [
    "### Ticket"
   ]
  },
  {
   "cell_type": "markdown",
   "id": "e6cd38af",
   "metadata": {},
   "source": [
    "Ticket number may has less informations to convey, but the ticket prefix indicate where the ticket was booked."
   ]
  },
  {
   "cell_type": "code",
   "execution_count": 33,
   "id": "35e762a8",
   "metadata": {},
   "outputs": [],
   "source": [
    "titanic['Ticket'] = titanic['Ticket'].apply(lambda x: x.replace('.', '').replace('/', '').split(' ')[0] if len(x.split()) >= 2 else 'X')"
   ]
  },
  {
   "cell_type": "code",
   "execution_count": 34,
   "id": "a1a39319",
   "metadata": {},
   "outputs": [],
   "source": [
    "columns = one_hot_encode(titanic[['Ticket']], 'ticket')\n",
    "df_prepared = pd.concat([df_prepared, pd.DataFrame(cat_1hot_encoder.transform(titanic[['Ticket']]).toarray(), columns = columns)], axis = 1)"
   ]
  },
  {
   "cell_type": "markdown",
   "id": "04690d21",
   "metadata": {},
   "source": [
    "### Title"
   ]
  },
  {
   "cell_type": "markdown",
   "id": "3890aad8",
   "metadata": {},
   "source": [
    "Honorifics attached to passengers names can give insight on their importance."
   ]
  },
  {
   "cell_type": "code",
   "execution_count": 35,
   "id": "92fdf937",
   "metadata": {},
   "outputs": [],
   "source": [
    "titanic['Title'] = titanic['Name'].apply(lambda x: re.search(\", (.+?)\\.\", x).group(1).strip() if re.search(\", (.+?)\\.\", x) != None else 'X')"
   ]
  },
  {
   "cell_type": "code",
   "execution_count": 36,
   "id": "548ae17d",
   "metadata": {
    "scrolled": false
   },
   "outputs": [
    {
     "data": {
      "text/plain": [
       "Mr              757\n",
       "Miss            260\n",
       "Mrs             197\n",
       "Master           61\n",
       "Dr                8\n",
       "Rev               8\n",
       "Col               4\n",
       "Major             2\n",
       "Mlle              2\n",
       "Ms                2\n",
       "Don               1\n",
       "Sir               1\n",
       "Lady              1\n",
       "Jonkheer          1\n",
       "the Countess      1\n",
       "Dona              1\n",
       "Capt              1\n",
       "Mme               1\n",
       "Name: Title, dtype: int64"
      ]
     },
     "execution_count": 36,
     "metadata": {},
     "output_type": "execute_result"
    }
   ],
   "source": [
    "titanic['Title'].value_counts()"
   ]
  },
  {
   "cell_type": "code",
   "execution_count": 37,
   "id": "d365e55a",
   "metadata": {},
   "outputs": [
    {
     "data": {
      "text/plain": [
       "<seaborn.axisgrid.FacetGrid at 0x7f24a2809400>"
      ]
     },
     "execution_count": 37,
     "metadata": {},
     "output_type": "execute_result"
    },
    {
     "data": {
      "image/png": "[encoded data removed]",
      "text/plain": [
       "<Figure size 720x360 with 1 Axes>"
      ]
     },
     "metadata": {
      "needs_background": "light"
     },
     "output_type": "display_data"
    }
   ],
   "source": [
    "sns.catplot(kind = 'bar', data = titanic, x = 'Title', y = 'Survived', aspect = 2)"
   ]
  },
  {
   "cell_type": "markdown",
   "id": "20b42101",
   "metadata": {},
   "source": [
    "There is a group of titles rarely used and that have pretty much the same meaning as the classical english equivalents. So they will be grouped in a special category."
   ]
  },
  {
   "cell_type": "code",
   "execution_count": 38,
   "id": "fd4bb98b",
   "metadata": {},
   "outputs": [],
   "source": [
    "titanic['Title'].replace(['Dr', 'Rev', 'Col', 'Major', 'Capt', 'Jonkheer', 'Lady', 'Don', 'Sir', 'Dona', 'the Countess'], 'Rare', inplace = True)\n",
    "titanic['Title'].replace(['Miss', 'Mrs', 'Ms', 'Mlle', 'Mme'], 'Mrs', inplace = True)"
   ]
  },
  {
   "cell_type": "code",
   "execution_count": 39,
   "id": "dbe53afa",
   "metadata": {
    "scrolled": true
   },
   "outputs": [
    {
     "data": {
      "text/plain": [
       "Mr        757\n",
       "Mrs       462\n",
       "Master     61\n",
       "Rare       29\n",
       "Name: Title, dtype: int64"
      ]
     },
     "execution_count": 39,
     "metadata": {},
     "output_type": "execute_result"
    }
   ],
   "source": [
    "titanic['Title'].value_counts()"
   ]
  },
  {
   "cell_type": "code",
   "execution_count": 40,
   "id": "1bf91fd4",
   "metadata": {
    "scrolled": true
   },
   "outputs": [
    {
     "data": {
      "text/plain": [
       "<seaborn.axisgrid.FacetGrid at 0x7f24a2742f40>"
      ]
     },
     "execution_count": 40,
     "metadata": {},
     "output_type": "execute_result"
    },
    {
     "data": {
      "image/png": "[encoded data removed]",
      "text/plain": [
       "<Figure size 360x360 with 1 Axes>"
      ]
     },
     "metadata": {
      "needs_background": "light"
     },
     "output_type": "display_data"
    }
   ],
   "source": [
    "sns.catplot(kind = 'bar', data = titanic, x = 'Title', y = 'Survived')"
   ]
  },
  {
   "cell_type": "code",
   "execution_count": 41,
   "id": "5a2ee360",
   "metadata": {},
   "outputs": [],
   "source": [
    "columns = one_hot_encode(titanic[['Title']], 'title')\n",
    "df_prepared = pd.concat([df_prepared, pd.DataFrame(cat_1hot_encoder.transform(titanic[['Title']]).toarray(), columns = columns)], axis = 1)"
   ]
  },
  {
   "cell_type": "markdown",
   "id": "44a5b99b",
   "metadata": {},
   "source": [
    "### Family size"
   ]
  },
  {
   "cell_type": "markdown",
   "id": "f65d7436",
   "metadata": {},
   "source": [
    "We observed earlier that Parch and SibSp are highly correlated. So we will combine those two attributs in a new one expressing family size."
   ]
  },
  {
   "cell_type": "code",
   "execution_count": 42,
   "id": "38212883",
   "metadata": {},
   "outputs": [],
   "source": [
    "titanic[\"Fsize\"] = titanic[\"Parch\"] + titanic[\"SibSp\"] + 1"
   ]
  },
  {
   "cell_type": "code",
   "execution_count": 43,
   "id": "dd87b0e0",
   "metadata": {
    "scrolled": false
   },
   "outputs": [
    {
     "data": {
      "text/plain": [
       "<seaborn.axisgrid.FacetGrid at 0x7f24a2804490>"
      ]
     },
     "execution_count": 43,
     "metadata": {},
     "output_type": "execute_result"
    },
    {
     "data": {
      "image/png": "[encoded data removed]",
      "text/plain": [
       "<Figure size 360x360 with 1 Axes>"
      ]
     },
     "metadata": {
      "needs_background": "light"
     },
     "output_type": "display_data"
    }
   ],
   "source": [
    "sns.catplot(kind = 'point', data = titanic, x = 'Fsize', y = 'Survived')"
   ]
  },
  {
   "cell_type": "code",
   "execution_count": 44,
   "id": "0b7309d7",
   "metadata": {},
   "outputs": [],
   "source": [
    "titanic['Single'] = titanic['Fsize'].map(lambda s: 1 if s == 1 else 0)\n",
    "titanic['SmallF'] = titanic['Fsize'].map(lambda s: 1 if  s == 2  else 0)\n",
    "titanic['MedF'] = titanic['Fsize'].map(lambda s: 1 if 3 <= s <= 4 else 0)\n",
    "titanic['LargeF'] = titanic['Fsize'].map(lambda s: 1 if s >= 5 else 0)"
   ]
  },
  {
   "cell_type": "code",
   "execution_count": 45,
   "id": "af2d2226",
   "metadata": {
    "scrolled": true
   },
   "outputs": [
    {
     "data": {
      "text/plain": [
       "<seaborn.axisgrid.FacetGrid at 0x7f24a24e6190>"
      ]
     },
     "execution_count": 45,
     "metadata": {},
     "output_type": "execute_result"
    },
    {
     "data": {
      "image/png": "[encoded data removed]",
      "text/plain": [
       "<Figure size 360x360 with 1 Axes>"
      ]
     },
     "metadata": {
      "needs_background": "light"
     },
     "output_type": "display_data"
    },
    {
     "data": {
      "image/png": "[encoded data removed]",
      "text/plain": [
       "<Figure size 360x360 with 1 Axes>"
      ]
     },
     "metadata": {
      "needs_background": "light"
     },
     "output_type": "display_data"
    },
    {
     "data": {
      "image/png": "[encoded data removed]",
      "text/plain": [
       "<Figure size 360x360 with 1 Axes>"
      ]
     },
     "metadata": {
      "needs_background": "light"
     },
     "output_type": "display_data"
    },
    {
     "data": {
      "image/png": "[encoded data removed]",
      "text/plain": [
       "<Figure size 360x360 with 1 Axes>"
      ]
     },
     "metadata": {
      "needs_background": "light"
     },
     "output_type": "display_data"
    }
   ],
   "source": [
    "sns.catplot(kind = 'bar', data = titanic, x = 'Single', y = 'Survived')\n",
    "sns.catplot(kind = 'bar', data = titanic, x = 'SmallF', y = 'Survived')\n",
    "sns.catplot(kind = 'bar', data = titanic, x = 'MedF', y = 'Survived')\n",
    "sns.catplot(kind = 'bar', data = titanic, x = 'LargeF', y = 'Survived')"
   ]
  },
  {
   "cell_type": "code",
   "execution_count": 46,
   "id": "d2be753e",
   "metadata": {},
   "outputs": [],
   "source": [
    "df_prepared = pd.concat([df_prepared, titanic[['Single', 'SmallF', 'MedF', 'LargeF']]], axis = 1)"
   ]
  },
  {
   "cell_type": "code",
   "execution_count": 47,
   "id": "41c5b9f1",
   "metadata": {},
   "outputs": [
    {
     "data": {
      "text/plain": [
       "Index(['fare', 'age', 'embarked_c', 'embarked_q', 'embarked_s', 'cabin_a',\n",
       "       'cabin_b', 'cabin_c', 'cabin_d', 'cabin_e', 'cabin_f', 'cabin_g',\n",
       "       'cabin_t', 'cabin_x', 'ticket_a', 'ticket_a4', 'ticket_a5',\n",
       "       'ticket_aq3', 'ticket_aq4', 'ticket_as', 'ticket_c', 'ticket_ca',\n",
       "       'ticket_casoton', 'ticket_fc', 'ticket_fcc', 'ticket_fa', 'ticket_lp',\n",
       "       'ticket_pc', 'ticket_pp', 'ticket_ppp', 'ticket_sc', 'ticket_sca3',\n",
       "       'ticket_sca4', 'ticket_scah', 'ticket_scow', 'ticket_scparis',\n",
       "       'ticket_scparis', 'ticket_soc', 'ticket_sop', 'ticket_sopp',\n",
       "       'ticket_sotono2', 'ticket_sotonoq', 'ticket_sp', 'ticket_stono',\n",
       "       'ticket_stono2', 'ticket_stonoq', 'ticket_swpp', 'ticket_wc',\n",
       "       'ticket_wep', 'ticket_x', 'title_master', 'title_mr', 'title_mrs',\n",
       "       'title_rare', 'Single', 'SmallF', 'MedF', 'LargeF'],\n",
       "      dtype='object')"
      ]
     },
     "execution_count": 47,
     "metadata": {},
     "output_type": "execute_result"
    }
   ],
   "source": [
    "df_prepared.columns"
   ]
  },
  {
   "cell_type": "code",
   "execution_count": 48,
   "id": "94e0f475",
   "metadata": {
    "scrolled": true
   },
   "outputs": [
    {
     "data": {
      "text/plain": [
       "Index(['PassengerId', 'Survived', 'Pclass', 'Name', 'Sex', 'Age', 'SibSp',\n",
       "       'Parch', 'Ticket', 'Fare', 'Cabin', 'Embarked', 'Title', 'Fsize',\n",
       "       'Single', 'SmallF', 'MedF', 'LargeF'],\n",
       "      dtype='object')"
      ]
     },
     "execution_count": 48,
     "metadata": {},
     "output_type": "execute_result"
    }
   ],
   "source": [
    "titanic.columns"
   ]
  },
  {
   "cell_type": "code",
   "execution_count": 49,
   "id": "e0a7d60e",
   "metadata": {
    "scrolled": false
   },
   "outputs": [],
   "source": [
    "df_prepared = pd.concat([df_prepared, titanic[['Pclass']]], axis = 1)\n",
    "df_prepared = pd.concat([df_prepared, titanic[['SibSp']]], axis = 1)\n",
    "df_prepared = pd.concat([df_prepared, titanic[['Parch']]], axis = 1)\n",
    "\n",
    "columns = one_hot_encode(titanic[['Sex']], 'sex')\n",
    "df_prepared = pd.concat([df_prepared, pd.DataFrame(cat_1hot_encoder.transform(titanic[['Sex']]).toarray(), columns = columns)], axis = 1)"
   ]
  },
  {
   "cell_type": "markdown",
   "id": "037259ed",
   "metadata": {},
   "source": [
    "## Features modeling"
   ]
  },
  {
   "cell_type": "code",
   "execution_count": 50,
   "id": "98539d4b",
   "metadata": {},
   "outputs": [],
   "source": [
    "df_prepared_train = df_prepared[:train_len]\n",
    "df_prepared_test = df_prepared[train_len:]"
   ]
  },
  {
   "cell_type": "code",
   "execution_count": 51,
   "id": "4801e104",
   "metadata": {},
   "outputs": [],
   "source": [
    "df_labels = titanic[:train_len][\"Survived\"].copy()"
   ]
  },
  {
   "cell_type": "markdown",
   "id": "6f2661a5",
   "metadata": {},
   "source": [
    "# Models selection"
   ]
  },
  {
   "cell_type": "code",
   "execution_count": 52,
   "id": "fd698565",
   "metadata": {},
   "outputs": [],
   "source": [
    "random_state = 42\n",
    "\n",
    "classifiers = []\n",
    "classifiers.append(LogisticRegression(random_state = random_state))\n",
    "classifiers.append(SVC(random_state = random_state))\n",
    "classifiers.append(DecisionTreeClassifier(random_state = random_state))\n",
    "classifiers.append(RandomForestClassifier(random_state = random_state))\n",
    "classifiers.append(ExtraTreesClassifier(random_state = random_state))\n",
    "classifiers.append(KNeighborsClassifier(n_neighbors = 10))\n",
    "\n",
    "cv_results = []\n",
    "for cls_ in classifiers:\n",
    "    cv_results.append(cross_val_score(cls_, df_prepared_train, df_labels, cv = 10, scoring = 'accuracy'))\n",
    "cv_results = pd.DataFrame(cv_results, index = ['LogisticRegression', 'SVC', 'DecisionTreeClassifier',\n",
    "                                    'RandomForestClassifier', 'ExtraTreesClassifier', 'KNeighborsClassifier']).transpose()"
   ]
  },
  {
   "cell_type": "code",
   "execution_count": 53,
   "id": "256b5d65",
   "metadata": {
    "scrolled": false
   },
   "outputs": [
    {
     "data": {
      "text/plain": [
       "<seaborn.axisgrid.FacetGrid at 0x7f24a23e9e50>"
      ]
     },
     "execution_count": 53,
     "metadata": {},
     "output_type": "execute_result"
    },
    {
     "data": {
      "image/png": "[encoded data removed]",
      "text/plain": [
       "<Figure size 1080x360 with 1 Axes>"
      ]
     },
     "metadata": {
      "needs_background": "light"
     },
     "output_type": "display_data"
    }
   ],
   "source": [
    "sns.catplot(kind = 'box', data = cv_results, aspect = 3)"
   ]
  },
  {
   "cell_type": "markdown",
   "id": "790aad81",
   "metadata": {},
   "source": [
    "I will use Logistic Regression, SVC and Random Forest Classifier for the training of an ensemble learning algorithm."
   ]
  },
  {
   "cell_type": "markdown",
   "id": "856a12cc",
   "metadata": {},
   "source": [
    "## Hyperparameter"
   ]
  },
  {
   "cell_type": "markdown",
   "id": "a131eae4",
   "metadata": {},
   "source": [
    "### Logistic Regression"
   ]
  },
  {
   "cell_type": "code",
   "execution_count": 54,
   "id": "514bdd47",
   "metadata": {},
   "outputs": [
    {
     "name": "stdout",
     "output_type": "stream",
     "text": [
      "Fitting 10 folds for each of 5 candidates, totalling 50 fits\n"
     ]
    },
    {
     "data": {
      "text/plain": [
       "GridSearchCV(cv=10, estimator=LogisticRegression(random_state=42),\n",
       "             param_grid={'C': [50.0, 10.0, 1.0, 0.1, 0.01], 'max_iter': [500]},\n",
       "             scoring='accuracy', verbose=1)"
      ]
     },
     "execution_count": 54,
     "metadata": {},
     "output_type": "execute_result"
    }
   ],
   "source": [
    "log_reg = LogisticRegression(random_state = random_state)\n",
    "log_reg_param_grid = {\n",
    "    'C': [50.0, 10.0, 1.0, 0.1, 0.01],\n",
    "    'max_iter': [500]\n",
    "}\n",
    "\n",
    "log_reg_grid_search = GridSearchCV(log_reg, param_grid = log_reg_param_grid, cv = 10, scoring = 'accuracy', verbose = 1)\n",
    "\n",
    "log_reg_grid_search.fit(df_prepared_train, df_labels)"
   ]
  },
  {
   "cell_type": "code",
   "execution_count": 55,
   "id": "7d22a3e8",
   "metadata": {
    "scrolled": true
   },
   "outputs": [
    {
     "data": {
      "text/plain": [
       "0.8238077403245943"
      ]
     },
     "execution_count": 55,
     "metadata": {},
     "output_type": "execute_result"
    }
   ],
   "source": [
    "log_reg_grid_search.best_score_"
   ]
  },
  {
   "cell_type": "markdown",
   "id": "0222e7a5",
   "metadata": {},
   "source": [
    "### SVC"
   ]
  },
  {
   "cell_type": "code",
   "execution_count": 56,
   "id": "7b2448f3",
   "metadata": {},
   "outputs": [
    {
     "name": "stdout",
     "output_type": "stream",
     "text": [
      "Fitting 10 folds for each of 15 candidates, totalling 150 fits\n"
     ]
    },
    {
     "data": {
      "text/plain": [
       "GridSearchCV(cv=10, estimator=SVC(random_state=42),\n",
       "             param_grid={'C': [50.0, 10.0, 1.0, 0.1, 0.01], 'gamma': ['scale'],\n",
       "                         'kernel': ['poly', 'rbf', 'sigmoid']},\n",
       "             scoring='accuracy', verbose=1)"
      ]
     },
     "execution_count": 56,
     "metadata": {},
     "output_type": "execute_result"
    }
   ],
   "source": [
    "svc_cls = SVC(random_state = random_state)\n",
    "svc_cls_param_grid = {\n",
    "    'kernel': ['poly', 'rbf', 'sigmoid'],\n",
    "    'C': [50.0, 10.0, 1.0, 0.1, 0.01],\n",
    "    'gamma': ['scale']\n",
    "}\n",
    "\n",
    "svc_cls_grid_search = GridSearchCV(svc_cls, param_grid = svc_cls_param_grid, cv = 10, scoring = 'accuracy', verbose = 1)\n",
    "\n",
    "svc_cls_grid_search.fit(df_prepared_train, df_labels)"
   ]
  },
  {
   "cell_type": "code",
   "execution_count": 57,
   "id": "69630f3c",
   "metadata": {
    "scrolled": true
   },
   "outputs": [
    {
     "data": {
      "text/plain": [
       "0.8327715355805243"
      ]
     },
     "execution_count": 57,
     "metadata": {},
     "output_type": "execute_result"
    }
   ],
   "source": [
    "svc_cls_grid_search.best_score_"
   ]
  },
  {
   "cell_type": "markdown",
   "id": "2e744822",
   "metadata": {},
   "source": [
    "### Random Forest Classifier"
   ]
  },
  {
   "cell_type": "code",
   "execution_count": 58,
   "id": "3f98d817",
   "metadata": {},
   "outputs": [
    {
     "name": "stdout",
     "output_type": "stream",
     "text": [
      "Fitting 10 folds for each of 48 candidates, totalling 480 fits\n"
     ]
    },
    {
     "data": {
      "text/plain": [
       "GridSearchCV(cv=10, estimator=RandomForestClassifier(random_state=42),\n",
       "             param_grid={'bootstrap': [False, True],\n",
       "                         'max_features': ['sqrt', 'log2', 10],\n",
       "                         'min_samples_leaf': [1, 10],\n",
       "                         'min_samples_split': [2, 10],\n",
       "                         'n_estimators': [300, 100]},\n",
       "             scoring='accuracy', verbose=1)"
      ]
     },
     "execution_count": 58,
     "metadata": {},
     "output_type": "execute_result"
    }
   ],
   "source": [
    "forest_cls = RandomForestClassifier(random_state = random_state)\n",
    "forest_cls_param_grid = {\n",
    "    'n_estimators': [300,  100],\n",
    "    'max_features': ['sqrt', 'log2', 10],\n",
    "    'bootstrap': [False, True],\n",
    "    \"min_samples_split\": [2, 10],\n",
    "    \"min_samples_leaf\": [1, 10]\n",
    "}\n",
    "\n",
    "forest_cls_grid_search = GridSearchCV(forest_cls, param_grid = forest_cls_param_grid, cv = 10, scoring = 'accuracy', verbose = 1)\n",
    "\n",
    "forest_cls_grid_search.fit(df_prepared_train, df_labels)"
   ]
  },
  {
   "cell_type": "code",
   "execution_count": 59,
   "id": "709a940c",
   "metadata": {
    "scrolled": true
   },
   "outputs": [
    {
     "data": {
      "text/plain": [
       "0.8361548064918851"
      ]
     },
     "execution_count": 59,
     "metadata": {},
     "output_type": "execute_result"
    }
   ],
   "source": [
    "forest_cls_grid_search.best_score_"
   ]
  },
  {
   "cell_type": "code",
   "execution_count": 60,
   "id": "e377c8f7",
   "metadata": {},
   "outputs": [],
   "source": [
    "best_classifiers = [('LogisticRegression', log_reg_grid_search.best_estimator_),\n",
    "                    ('SVC', svc_cls_grid_search.best_estimator_),\n",
    "                    ('RandomForestClassifier', forest_cls_grid_search.best_estimator_)\n",
    "                   ]"
   ]
  },
  {
   "cell_type": "code",
   "execution_count": 61,
   "id": "2a7527de",
   "metadata": {
    "scrolled": true
   },
   "outputs": [
    {
     "data": {
      "text/plain": [
       "<AxesSubplot:>"
      ]
     },
     "execution_count": 61,
     "metadata": {},
     "output_type": "execute_result"
    },
    {
     "data": {
      "image/png": "[encoded data removed]",
      "text/plain": [
       "<Figure size 432x288 with 2 Axes>"
      ]
     },
     "metadata": {
      "needs_background": "light"
     },
     "output_type": "display_data"
    }
   ],
   "source": [
    "test_prediction_log_reg = pd.Series(best_classifiers[0][1].predict(df_prepared_test), name = 'LOR')\n",
    "test_prediction_svc_cls = pd.Series(best_classifiers[1][1].predict(df_prepared_test), name = 'SVC')\n",
    "test_prediction_forest_cls = pd.Series(best_classifiers[2][1].predict(df_prepared_test), name = 'RFC')\n",
    "\n",
    "ensemble_results = pd.concat([test_prediction_log_reg, test_prediction_svc_cls, test_prediction_forest_cls],axis=1)\n",
    "\n",
    "sns.heatmap(ensemble_results.corr(),annot=True)"
   ]
  },
  {
   "cell_type": "code",
   "execution_count": 62,
   "id": "ba97476b",
   "metadata": {
    "scrolled": true
   },
   "outputs": [
    {
     "data": {
      "text/plain": [
       "VotingClassifier(estimators=[('LogisticRegression',\n",
       "                              LogisticRegression(max_iter=500,\n",
       "                                                 random_state=42)),\n",
       "                             ('SVC', SVC(kernel='poly', random_state=42)),\n",
       "                             ('RandomForestClassifier',\n",
       "                              RandomForestClassifier(max_features='sqrt',\n",
       "                                                     min_samples_split=10,\n",
       "                                                     n_estimators=300,\n",
       "                                                     random_state=42))])"
      ]
     },
     "execution_count": 62,
     "metadata": {},
     "output_type": "execute_result"
    }
   ],
   "source": [
    "vot_clf = VotingClassifier(estimators = best_classifiers)\n",
    "vot_clf.fit(df_prepared_train, df_labels)"
   ]
  },
  {
   "cell_type": "markdown",
   "id": "c397dd30",
   "metadata": {},
   "source": [
    "# Submission"
   ]
  },
  {
   "cell_type": "code",
   "execution_count": 63,
   "id": "712422ce",
   "metadata": {},
   "outputs": [],
   "source": [
    "predictions = vot_clf.predict(df_prepared_test)"
   ]
  },
  {
   "cell_type": "code",
   "execution_count": 64,
   "id": "8e3e2acd",
   "metadata": {},
   "outputs": [],
   "source": [
    "submission = pd.DataFrame()\n",
    "submission[\"PassengerId\"] = titanic_df_test[\"PassengerId\"].copy()\n",
    "submission[\"Survived\"] = pd.Series(data = predictions.astype(int))"
   ]
  },
  {
   "cell_type": "code",
   "execution_count": 65,
   "id": "650978d4",
   "metadata": {
    "scrolled": true
   },
   "outputs": [
    {
     "data": {
      "text/html": [
       "<div>\n",
       "<style scoped>\n",
       "    .dataframe tbody tr th:only-of-type {\n",
       "        vertical-align: middle;\n",
       "    }\n",
       "\n",
       "    .dataframe tbody tr th {\n",
       "        vertical-align: top;\n",
       "    }\n",
       "\n",
       "    .dataframe thead th {\n",
       "        text-align: right;\n",
       "    }\n",
       "</style>\n",
       "<table border=\"1\" class=\"dataframe\">\n",
       "  <thead>\n",
       "    <tr style=\"text-align: right;\">\n",
       "      <th></th>\n",
       "      <th>PassengerId</th>\n",
       "      <th>Survived</th>\n",
       "    </tr>\n",
       "  </thead>\n",
       "  <tbody>\n",
       "    <tr>\n",
       "      <th>0</th>\n",
       "      <td>892</td>\n",
       "      <td>0</td>\n",
       "    </tr>\n",
       "    <tr>\n",
       "      <th>1</th>\n",
       "      <td>893</td>\n",
       "      <td>0</td>\n",
       "    </tr>\n",
       "    <tr>\n",
       "      <th>2</th>\n",
       "      <td>894</td>\n",
       "      <td>0</td>\n",
       "    </tr>\n",
       "    <tr>\n",
       "      <th>3</th>\n",
       "      <td>895</td>\n",
       "      <td>0</td>\n",
       "    </tr>\n",
       "    <tr>\n",
       "      <th>4</th>\n",
       "      <td>896</td>\n",
       "      <td>1</td>\n",
       "    </tr>\n",
       "  </tbody>\n",
       "</table>\n",
       "</div>"
      ],
      "text/plain": [
       "   PassengerId  Survived\n",
       "0          892         0\n",
       "1          893         0\n",
       "2          894         0\n",
       "3          895         0\n",
       "4          896         1"
      ]
     },
     "execution_count": 65,
     "metadata": {},
     "output_type": "execute_result"
    }
   ],
   "source": [
    "submission.head()"
   ]
  },
  {
   "cell_type": "code",
   "execution_count": 66,
   "id": "87fa81a4",
   "metadata": {},
   "outputs": [],
   "source": [
    "submission.to_csv(os.path.abspath('../datasets/titanic/submission.csv'), index = False)"
   ]
  }
 ],
 "metadata": {
  "kernelspec": {
   "display_name": "Python 3",
   "language": "python",
   "name": "python3"
  },
  "language_info": {
   "codemirror_mode": {
    "name": "ipython",
    "version": 3
   },
   "file_extension": ".py",
   "mimetype": "text/x-python",
   "name": "python",
   "nbconvert_exporter": "python",
   "pygments_lexer": "ipython3",
   "version": "3.8.10"
  }
 },
 "nbformat": 4,
 "nbformat_minor": 5
}
